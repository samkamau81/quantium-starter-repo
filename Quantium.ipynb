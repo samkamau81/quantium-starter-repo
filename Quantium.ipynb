{
 "cells": [
  {
   "cell_type": "markdown",
   "metadata": {
    "collapsed": true,
    "pycharm": {
     "name": "#%% md\n"
    }
   },
   "source": [
    "## Quantium by Samuel Waweru , JKUAT '25"
   ]
  },
  {
   "cell_type": "code",
   "execution_count": 31,
   "outputs": [],
   "source": [
    "import pandas as pd"
   ],
   "metadata": {
    "collapsed": false,
    "pycharm": {
     "name": "#%%\n"
    }
   }
  },
  {
   "cell_type": "code",
   "execution_count": 39,
   "outputs": [
    {
     "name": "stdout",
     "output_type": "stream",
     "text": [
      "          product  price  quantity        date region\n",
      "0     pink morsel  $3.00       546  2018-02-06  north\n",
      "1     pink morsel  $3.00       549  2018-02-06  south\n",
      "2     pink morsel  $3.00       577  2018-02-06   east\n",
      "3     pink morsel  $3.00       519  2018-02-06   west\n",
      "4     gold morsel  $9.99       580  2018-02-06  north\n",
      "5     gold morsel  $9.99       530  2018-02-06  south\n",
      "6     gold morsel  $9.99       576  2018-02-06   east\n",
      "7     gold morsel  $9.99       580  2018-02-06   west\n",
      "8  magenta morsel  $2.50       522  2018-02-06  north\n",
      "9  magenta morsel  $2.50       560  2018-02-06  south\n",
      "          product  price  quantity        date region\n",
      "0     pink morsel  $3.00       545  2019-06-11  north\n",
      "1     pink morsel  $3.00       521  2019-06-11  south\n",
      "2     pink morsel  $3.00       595  2019-06-11   east\n",
      "3     pink morsel  $3.00       507  2019-06-11   west\n",
      "4     gold morsel  $9.99       529  2019-06-11  north\n",
      "5     gold morsel  $9.99       509  2019-06-11  south\n",
      "6     gold morsel  $9.99       513  2019-06-11   east\n",
      "7     gold morsel  $9.99       585  2019-06-11   west\n",
      "8  magenta morsel  $2.50       586  2019-06-11  north\n",
      "9  magenta morsel  $2.50       561  2019-06-11  south\n",
      "          product  price  quantity        date region\n",
      "0     pink morsel  $3.00       526  2020-10-13  north\n",
      "1     pink morsel  $3.00       546  2020-10-13  south\n",
      "2     pink morsel  $3.00       505  2020-10-13   east\n",
      "3     pink morsel  $3.00       561  2020-10-13   west\n",
      "4     gold morsel  $9.99       553  2020-10-13  north\n",
      "5     gold morsel  $9.99       513  2020-10-13  south\n",
      "6     gold morsel  $9.99       575  2020-10-13   east\n",
      "7     gold morsel  $9.99       599  2020-10-13   west\n",
      "8  magenta morsel  $2.50       544  2020-10-13  north\n",
      "9  magenta morsel  $2.50       542  2020-10-13  south\n"
     ]
    }
   ],
   "source": [
    "\n",
    "table1=pd.read_csv('S:\\code\\Quantium_proj\\quantium-starter-repo-main\\data\\daily_sales_data_0.csv')\n",
    "print(table1.head(10))\n",
    "table2=pd.read_csv('S:\\code\\Quantium_proj\\quantium-starter-repo-main\\data\\daily_sales_data_1.csv')\n",
    "print(table2.head(10))\n",
    "table3=pd.read_csv('S:\\code\\Quantium_proj\\quantium-starter-repo-main\\data\\daily_sales_data_2.csv')\n",
    "print(table3.head(10))"
   ],
   "metadata": {
    "collapsed": false,
    "pycharm": {
     "name": "#%%\n"
    }
   }
  },
  {
   "cell_type": "code",
   "execution_count": 40,
   "outputs": [
    {
     "name": "stdout",
     "output_type": "stream",
     "text": [
      "          product  price  quantity        date region    Tsale\n",
      "0     pink morsel   3.00       546  2018-02-06  north  1638.00\n",
      "1     pink morsel   3.00       549  2018-02-06  south  1647.00\n",
      "2     pink morsel   3.00       577  2018-02-06   east  1731.00\n",
      "3     pink morsel   3.00       519  2018-02-06   west  1557.00\n",
      "4     gold morsel   9.99       580  2018-02-06  north  5794.20\n",
      "5     gold morsel   9.99       530  2018-02-06  south  5294.70\n",
      "6     gold morsel   9.99       576  2018-02-06   east  5754.24\n",
      "7     gold morsel   9.99       580  2018-02-06   west  5794.20\n",
      "8  magenta morsel   2.50       522  2018-02-06  north  1305.00\n",
      "9  magenta morsel   2.50       560  2018-02-06  south  1400.00\n",
      "          product  price  quantity        date region    Tsale\n",
      "0     pink morsel   3.00       545  2019-06-11  north  1635.00\n",
      "1     pink morsel   3.00       521  2019-06-11  south  1563.00\n",
      "2     pink morsel   3.00       595  2019-06-11   east  1785.00\n",
      "3     pink morsel   3.00       507  2019-06-11   west  1521.00\n",
      "4     gold morsel   9.99       529  2019-06-11  north  5284.71\n",
      "5     gold morsel   9.99       509  2019-06-11  south  5084.91\n",
      "6     gold morsel   9.99       513  2019-06-11   east  5124.87\n",
      "7     gold morsel   9.99       585  2019-06-11   west  5844.15\n",
      "8  magenta morsel   2.50       586  2019-06-11  north  1465.00\n",
      "9  magenta morsel   2.50       561  2019-06-11  south  1402.50\n",
      "          product  price  quantity        date region    Tsale\n",
      "0     pink morsel   3.00       526  2020-10-13  north  1578.00\n",
      "1     pink morsel   3.00       546  2020-10-13  south  1638.00\n",
      "2     pink morsel   3.00       505  2020-10-13   east  1515.00\n",
      "3     pink morsel   3.00       561  2020-10-13   west  1683.00\n",
      "4     gold morsel   9.99       553  2020-10-13  north  5524.47\n",
      "5     gold morsel   9.99       513  2020-10-13  south  5124.87\n",
      "6     gold morsel   9.99       575  2020-10-13   east  5744.25\n",
      "7     gold morsel   9.99       599  2020-10-13   west  5984.01\n",
      "8  magenta morsel   2.50       544  2020-10-13  north  1360.00\n",
      "9  magenta morsel   2.50       542  2020-10-13  south  1355.00\n"
     ]
    }
   ],
   "source": [
    "def sales (table):\n",
    "    table['price'] = table['price'].replace({'\\$': '', ',': ''}, regex=True).astype(float)\n",
    "    table['Tsale']=(table['price'])*(table['quantity'])\n",
    "    print(table.head(10))\n",
    "    return table\n",
    "\n",
    "table1=sales(table1)\n",
    "table2=sales(table2)\n",
    "table3=sales(table3)\n"
   ],
   "metadata": {
    "collapsed": false,
    "pycharm": {
     "name": "#%%\n"
    }
   }
  },
  {
   "cell_type": "code",
   "execution_count": 41,
   "outputs": [],
   "source": [
    "product=list ()\n",
    "sale =list()\n",
    "date =list()\n",
    "region =list()\n"
   ],
   "metadata": {
    "collapsed": false,
    "pycharm": {
     "name": "#%%\n"
    }
   }
  },
  {
   "cell_type": "code",
   "execution_count": 42,
   "outputs": [
    {
     "data": {
      "text/plain": "                product  price  quantity        date region    Tsale\n0           pink morsel   3.00       546  2018-02-06  north  1638.00\n1           pink morsel   3.00       549  2018-02-06  south  1647.00\n2           pink morsel   3.00       577  2018-02-06   east  1731.00\n3           pink morsel   3.00       519  2018-02-06   west  1557.00\n4           gold morsel   9.99       580  2018-02-06  north  5794.20\n...                 ...    ...       ...         ...    ...      ...\n13715  vermilion morsel   4.99       504  2019-06-10   west  2514.96\n13716      lapis morsel   1.99       521  2019-06-10  north  1036.79\n13717      lapis morsel   1.99       502  2019-06-10  south   998.98\n13718      lapis morsel   1.99       536  2019-06-10   east  1066.64\n13719      lapis morsel   1.99       515  2019-06-10   west  1024.85\n\n[13720 rows x 6 columns]",
      "text/html": "<div>\n<style scoped>\n    .dataframe tbody tr th:only-of-type {\n        vertical-align: middle;\n    }\n\n    .dataframe tbody tr th {\n        vertical-align: top;\n    }\n\n    .dataframe thead th {\n        text-align: right;\n    }\n</style>\n<table border=\"1\" class=\"dataframe\">\n  <thead>\n    <tr style=\"text-align: right;\">\n      <th></th>\n      <th>product</th>\n      <th>price</th>\n      <th>quantity</th>\n      <th>date</th>\n      <th>region</th>\n      <th>Tsale</th>\n    </tr>\n  </thead>\n  <tbody>\n    <tr>\n      <th>0</th>\n      <td>pink morsel</td>\n      <td>3.00</td>\n      <td>546</td>\n      <td>2018-02-06</td>\n      <td>north</td>\n      <td>1638.00</td>\n    </tr>\n    <tr>\n      <th>1</th>\n      <td>pink morsel</td>\n      <td>3.00</td>\n      <td>549</td>\n      <td>2018-02-06</td>\n      <td>south</td>\n      <td>1647.00</td>\n    </tr>\n    <tr>\n      <th>2</th>\n      <td>pink morsel</td>\n      <td>3.00</td>\n      <td>577</td>\n      <td>2018-02-06</td>\n      <td>east</td>\n      <td>1731.00</td>\n    </tr>\n    <tr>\n      <th>3</th>\n      <td>pink morsel</td>\n      <td>3.00</td>\n      <td>519</td>\n      <td>2018-02-06</td>\n      <td>west</td>\n      <td>1557.00</td>\n    </tr>\n    <tr>\n      <th>4</th>\n      <td>gold morsel</td>\n      <td>9.99</td>\n      <td>580</td>\n      <td>2018-02-06</td>\n      <td>north</td>\n      <td>5794.20</td>\n    </tr>\n    <tr>\n      <th>...</th>\n      <td>...</td>\n      <td>...</td>\n      <td>...</td>\n      <td>...</td>\n      <td>...</td>\n      <td>...</td>\n    </tr>\n    <tr>\n      <th>13715</th>\n      <td>vermilion morsel</td>\n      <td>4.99</td>\n      <td>504</td>\n      <td>2019-06-10</td>\n      <td>west</td>\n      <td>2514.96</td>\n    </tr>\n    <tr>\n      <th>13716</th>\n      <td>lapis morsel</td>\n      <td>1.99</td>\n      <td>521</td>\n      <td>2019-06-10</td>\n      <td>north</td>\n      <td>1036.79</td>\n    </tr>\n    <tr>\n      <th>13717</th>\n      <td>lapis morsel</td>\n      <td>1.99</td>\n      <td>502</td>\n      <td>2019-06-10</td>\n      <td>south</td>\n      <td>998.98</td>\n    </tr>\n    <tr>\n      <th>13718</th>\n      <td>lapis morsel</td>\n      <td>1.99</td>\n      <td>536</td>\n      <td>2019-06-10</td>\n      <td>east</td>\n      <td>1066.64</td>\n    </tr>\n    <tr>\n      <th>13719</th>\n      <td>lapis morsel</td>\n      <td>1.99</td>\n      <td>515</td>\n      <td>2019-06-10</td>\n      <td>west</td>\n      <td>1024.85</td>\n    </tr>\n  </tbody>\n</table>\n<p>13720 rows × 6 columns</p>\n</div>"
     },
     "execution_count": 42,
     "metadata": {},
     "output_type": "execute_result"
    }
   ],
   "source": [
    "table1=pd.DataFrame(table1)\n",
    "table2=pd.DataFrame(table2)\n",
    "table3=pd.DataFrame(table3)\n",
    "\n",
    "table1"
   ],
   "metadata": {
    "collapsed": false,
    "pycharm": {
     "name": "#%%\n"
    }
   }
  },
  {
   "cell_type": "code",
   "execution_count": 50,
   "outputs": [
    {
     "name": "stdout",
     "output_type": "stream",
     "text": [
      "13720 13720 13720\n",
      "68600 68600 68600 68600\n"
     ]
    }
   ],
   "source": [
    "for i in range(0, len(table1)):\n",
    "    product.append(table1.iloc[i,0])\n",
    "    sale.append(table1.iloc[i,5])\n",
    "    date.append(table1.iloc[i, 3])\n",
    "    region.append(table1.iloc[i, 4])\n",
    "\n",
    "for i in range(0, len(table2)):\n",
    "    product.append(table2.iloc[i,0])\n",
    "    sale.append(table2.iloc[i,5])\n",
    "    date.append(table2.iloc[i, 3])\n",
    "    region.append(table2.iloc[i, 4])\n",
    "\n",
    "for i in range(0, len(table3)):\n",
    "    product.append(table3.iloc[i,0])\n",
    "    sale.append(table3.iloc[i,5])\n",
    "    date.append(table3.iloc[i, 3])\n",
    "    region.append(table3.iloc[i, 4])\n",
    "\n",
    "print(len(table1),len(table2),len(table3))\n",
    "print(len(product), len(sale), len(date), len(region))\n"
   ],
   "metadata": {
    "collapsed": false,
    "pycharm": {
     "name": "#%%\n"
    }
   }
  },
  {
   "cell_type": "code",
   "execution_count": 57,
   "outputs": [
    {
     "name": "stdout",
     "output_type": "stream",
     "text": [
      "       Product    Sale        Date Region\n",
      "0  pink morsel  1638.0  2018-02-06  north\n",
      "1  pink morsel  1647.0  2018-02-06  south\n",
      "2  pink morsel  1731.0  2018-02-06   east\n",
      "3  pink morsel  1557.0  2018-02-06   west\n",
      "4  gold morsel  5794.2  2018-02-06  north\n",
      "68600\n"
     ]
    }
   ],
   "source": [
    "final_table=pd.DataFrame({'Product':product,'Sale':sale,'Date':date,'Region':region})\n",
    "print(final_table.head())\n",
    "print(len(final_table))"
   ],
   "metadata": {
    "collapsed": false,
    "pycharm": {
     "name": "#%%\n"
    }
   }
  },
  {
   "cell_type": "code",
   "execution_count": 58,
   "outputs": [
    {
     "name": "stdout",
     "output_type": "stream",
     "text": [
      "     Sale        Date Region\n",
      "0  1638.0  2018-02-06  north\n",
      "1  1647.0  2018-02-06  south\n",
      "2  1731.0  2018-02-06   east\n",
      "3  1557.0  2018-02-06   west\n",
      "4  1587.0  2018-02-07  north\n",
      "9800\n"
     ]
    }
   ],
   "source": [
    "pinkm_table_sale=[]\n",
    "pinkm_table_date=[]\n",
    "pinkm_table_region=[]\n",
    "\n",
    "for i in range(len(final_table)):\n",
    "    if (final_table.iloc[i,0])=='pink morsel':\n",
    "        pinkm_table_sale.append(final_table.iloc[i,1])\n",
    "        pinkm_table_date.append(final_table.iloc[i,2])\n",
    "        pinkm_table_region.append(final_table.iloc[i,3])\n",
    "\n",
    "\n",
    "pinkmorsel_table=pd.DataFrame({'Sale':pinkm_table_sale,'Date':pinkm_table_date,'Region':pinkm_table_region})\n",
    "print(pinkmorsel_table.head())\n",
    "print(len(pinkmorsel_table))"
   ],
   "metadata": {
    "collapsed": false,
    "pycharm": {
     "name": "#%%\n"
    }
   }
  },
  {
   "cell_type": "code",
   "execution_count": 61,
   "outputs": [],
   "source": [
    "final_table.to_csv('Final_Combined Table.csv', header = ['Product','Total Sale','Date',' Region'], index=False)\n",
    "pinkmorsel_table.to_csv('Pink Morsel.csv', header = ['Total Sale of Morsel','Date','Region'], index=False)"
   ],
   "metadata": {
    "collapsed": false,
    "pycharm": {
     "name": "#%%\n"
    }
   }
  },
  {
   "cell_type": "code",
   "execution_count": null,
   "outputs": [],
   "source": [],
   "metadata": {
    "collapsed": false,
    "pycharm": {
     "name": "#%%\n"
    }
   }
  }
 ],
 "metadata": {
  "kernelspec": {
   "display_name": "Python 3",
   "language": "python",
   "name": "python3"
  },
  "language_info": {
   "codemirror_mode": {
    "name": "ipython",
    "version": 2
   },
   "file_extension": ".py",
   "mimetype": "text/x-python",
   "name": "python",
   "nbconvert_exporter": "python",
   "pygments_lexer": "ipython2",
   "version": "2.7.6"
  }
 },
 "nbformat": 4,
 "nbformat_minor": 0
}